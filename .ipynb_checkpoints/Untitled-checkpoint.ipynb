{
 "cells": [
  {
   "cell_type": "code",
   "execution_count": 1,
   "id": "9061ba34",
   "metadata": {},
   "outputs": [],
   "source": [
    "# programming complex integration.\n",
    "# goal: integrate(func,rail) -> complex\n",
    "from typing import Callable\n",
    "import math"
   ]
  },
  {
   "cell_type": "code",
   "execution_count": 2,
   "id": "1e934b27",
   "metadata": {},
   "outputs": [],
   "source": [
    "class ComplexRail(): # a function r : [a,b] -> C\n",
    "    \n",
    "    def __init__(self, func: Callable[[float], complex], a: float, b: float):\n",
    "        assert isinstance(func(a), complex), \"Function does not return complex numbers\"\n",
    "        assert isinstance(func(b), complex), \"Function does not return complex numbers\"\n",
    "        assert a < b\n",
    "        self.a = a\n",
    "        self.b = b\n",
    "        self.func = func\n",
    "        \n",
    "    def __call__(self,t):\n",
    "        assert t >= self.a and t <= self.b\n",
    "        return self.func(t) \n",
    "    \n",
    "    \n",
    "def integrateRail(rail: ComplexRail, dt = 0.00001):\n",
    "    t = rail.a\n",
    "    I = complex(0)\n",
    "    while t < rail.b:\n",
    "        I += rail(t) * dt\n",
    "        t += dt\n",
    "    return I\n",
    "\n",
    "\n",
    "def integrateFuncOnRail(complexFunc: Callable[[complex], complex], rail: ComplexRail, dt = 0.00001):\n",
    "    t = rail.a\n",
    "    I = complex(0)\n",
    "    \n",
    "    z_prev = rail.func(rail.a)\n",
    "    z = None\n",
    "    \n",
    "    t += dt\n",
    "    while t < rail.b:\n",
    "        \n",
    "        z = rail.func(t)\n",
    "        dz = z - z_prev\n",
    "        z_prev = z\n",
    "        I += complexFunc(z) * dz\n",
    "        \n",
    "        t += dt\n",
    "        \n",
    "    return I\n",
    "\n",
    "# to implement:\n",
    "# plot rail"
   ]
  },
  {
   "cell_type": "code",
   "execution_count": 3,
   "id": "624d2408",
   "metadata": {},
   "outputs": [
    {
     "data": {
      "text/plain": [
       "(8.666626666761239+0j)"
      ]
     },
     "execution_count": 3,
     "metadata": {},
     "output_type": "execute_result"
    }
   ],
   "source": [
    "r = ComplexRail(lambda x: complex(x**2), 1.0, 3.0)\n",
    "integrateRail(r)"
   ]
  },
  {
   "cell_type": "code",
   "execution_count": 4,
   "id": "9cb9d90f",
   "metadata": {},
   "outputs": [
    {
     "name": "stdout",
     "output_type": "stream",
     "text": [
      "5.901144456176063e-06\n",
      "True\n"
     ]
    }
   ],
   "source": [
    "# example 1. from tirgul on integration\n",
    "f = lambda z: complex((z-1) / ((9+z**2)*(z+1j)) )                # some specific complex rational function\n",
    "cir = ComplexRail(lambda t : 2*math.e ** (1j * t) ,0 ,2*math.pi) # circle rail of radius 2\n",
    "\n",
    "res = integrateFuncOnRail(f,cir) # result of numerical calculating\n",
    "sol = (math.pi / 4) * (1 - 1j)   # result of analytic calculation in class\n",
    "\n",
    "dist = abs(res - sol)\n",
    "print(dist)\n",
    "print(dist < 0.0001)   # very close -> True"
   ]
  },
  {
   "cell_type": "code",
   "execution_count": 5,
   "id": "db25c9c8",
   "metadata": {},
   "outputs": [
    {
     "name": "stdout",
     "output_type": "stream",
     "text": [
      " result is 0.000+6.283j. solution is 0.000+6.283j. distance between them: 0.00008\n",
      " result is -0.000-8.540j. solution is -0.000-8.540j. distance between them: 0.00008\n"
     ]
    }
   ],
   "source": [
    "# check my homework\n",
    "f = lambda z : complex( math.e ** z / (z * (1 - z)**3) )\n",
    "gamma1 = ComplexRail(lambda t : 0.5*math.e ** (1j * t) ,0 ,2*math.pi)\n",
    "gamma2 = ComplexRail(lambda t : 0.5*math.e ** (1j * t) + 1 ,0 ,2*math.pi)\n",
    "\n",
    "res = integrateFuncOnRail(f,gamma1)\n",
    "sol = 2 * math.pi * 1j\n",
    "print(f\" result is {res:.3f}. solution is {sol:.3f}. distance between them: {abs(res-sol):.5f}\")\n",
    "\n",
    "res = integrateFuncOnRail(f,gamma2)\n",
    "sol = - math.e * math.pi * 1j\n",
    "print(f\" result is {res:.3f}. solution is {sol:.3f}. distance between them: {abs(res-sol):.5f}\")"
   ]
  },
  {
   "cell_type": "code",
   "execution_count": null,
   "id": "dcb5f847",
   "metadata": {},
   "outputs": [],
   "source": []
  }
 ],
 "metadata": {
  "kernelspec": {
   "display_name": "Python 3 (ipykernel)",
   "language": "python",
   "name": "python3"
  },
  "language_info": {
   "codemirror_mode": {
    "name": "ipython",
    "version": 3
   },
   "file_extension": ".py",
   "mimetype": "text/x-python",
   "name": "python",
   "nbconvert_exporter": "python",
   "pygments_lexer": "ipython3",
   "version": "3.11.0"
  }
 },
 "nbformat": 4,
 "nbformat_minor": 5
}
